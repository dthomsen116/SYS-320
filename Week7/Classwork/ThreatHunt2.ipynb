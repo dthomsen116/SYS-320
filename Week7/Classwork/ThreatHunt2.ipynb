{
 "cells": [
  {
   "cell_type": "code",
   "execution_count": 11,
   "metadata": {},
   "outputs": [],
   "source": [
    "import paramiko, re\n",
    "from getpass import getpass\n",
    "\n",
    "#create pass prompt\n",
    "thepass = getpass(prompt=\"Please enter SSH Password\")\n",
    "\n",
    "#host information\n",
    "host = \"192.168.6.71\"\n",
    "port = 2222\n",
    "#username = test \n",
    "#password = password\n",
    "username = \"david.thomsen\"\n",
    "password = thepass\n",
    "\n",
    "try:\n",
    "    \n",
    "    ssh = paramiko.SSHClient()\n",
    "    ssh.set_missing_host_key_policy(paramiko.AutoAddPolicy())\n",
    "    ssh.connect(host, port, username, password)\n",
    "    \n",
    "except paramiko.AuthenticationException:\n",
    "    print(\"auth failed\")"
   ]
  },
  {
   "cell_type": "markdown",
   "metadata": {},
   "source": [
    "Uploading Kraken"
   ]
  },
  {
   "cell_type": "code",
   "execution_count": 12,
   "metadata": {},
   "outputs": [
    {
     "data": {
      "text/plain": [
       "<SFTPAttributes: [ size=0 uid=1286604565 gid=1286603265 mode=0o100644 atime=1667248526 mtime=1667256153 ]>"
      ]
     },
     "execution_count": 12,
     "metadata": {},
     "output_type": "execute_result"
    }
   ],
   "source": [
    "sftp = ssh.open_sftp()\n",
    "\n",
    "ssh.exec_command('cd /home/david.thomsen/')\n",
    "\n",
    "sftp.put('kraken', \"kraken\")"
   ]
  },
  {
   "cell_type": "markdown",
   "metadata": {},
   "source": [
    "Manually Run Commands"
   ]
  },
  {
   "cell_type": "code",
   "execution_count": 14,
   "metadata": {},
   "outputs": [
    {
     "name": "stdout",
     "output_type": "stream",
     "text": [
      "['.\\n', '..\\n', '.d.log\\n', 'Acese1965\\n', 'Andneas\\n', 'Andoged\\n', 'Asereardscon\\n', 'Denestomed\\n', 'Droutich1970\\n', 'Enten1988\\n', 'Estion59\\n', 'Gulay1979\\n', 'Hanceek\\n', 'Haremanse84\\n', 'Holow1939\\n', 'Houred\\n', 'Husires\\n', 'Madve1942\\n', 'Minat1995\\n', 'Nowers\\n', 'Obbire\\n', 'Peding\\n', 'Saidess\\n', 'Scouned\\n', 'Swout1992\\n', 'Theame\\n', 'Trae1989\\n', 'Unat1986\\n', 'Wagood71\\n', 'Weirche\\n', 'Whishatim\\n', 'Whitu1992\\n', 'abijah.buttendorf\\n', 'alexander.brown\\n', 'asani.vessup\\n', 'benjamin.gifford\\n', 'blaise.notter\\n', 'christopher.mchugh\\n', 'ciaran.byrne\\n', 'david.thomsen\\n', 'duane.dunston\\n', 'dylan.navarro\\n', 'eli.minkoff\\n', 'emily.crawford\\n', 'ethan.deane\\n', 'hasan.hashim\\n', 'jack.leonard\\n', 'jacob.mayotte\\n', 'jahseem.maxwell\\n', 'john.tiseo\\n', 'max.gallagher\\n', 'michael.pinelli\\n', 'miles.campbell\\n', 'noah.stiles\\n', 'p.dalton\\n', 'paul.gleason\\n', 'reed.simon\\n', 'samuel.barrows\\n', 'samuel.johnson01\\n', 'sarah.fornaldes\\n', 'sebastian.meredith\\n', 'thomas.autiello\\n', 'ubuntu\\n']\n"
     ]
    }
   ],
   "source": [
    "sftp = ssh.open_sftp()\n",
    "\n",
    "\n",
    "\n",
    "stdin, stdout, stderr = ssh.exec_command('ls -a /home')\n",
    "\n",
    "\n",
    "#print(stdin.readlines())\n",
    "print(stdout.readlines())\n",
    "#print(stderr.readlines())"
   ]
  },
  {
   "cell_type": "markdown",
   "metadata": {},
   "source": [
    "Run Kraken as a sudo user and save PIDs in krakenout.txt"
   ]
  },
  {
   "cell_type": "code",
   "execution_count": 15,
   "metadata": {},
   "outputs": [
    {
     "name": "stdout",
     "output_type": "stream",
     "text": [
      "['519423', '561559']\n"
     ]
    }
   ],
   "source": [
    "stdin, stdout, stderr = ssh.exec_command(\"sudo -S /home/ubuntu/kraken --folder /usr/bin --folder /usr/sbin/   --folder /usr/local/bin  --folder /sbin  --folder /usr/local/sbin  --folder /bin\")\n",
    "\n",
    "stdin.write(thepass + '\\n')\n",
    "stdin.flush()\n",
    "\n",
    "#print(stdout.readlines())\n",
    "\n",
    "pidlist = []\n",
    "\n",
    "for line in stdout.readlines(): \n",
    "    if re.findall(r'.*pid.*', line):\n",
    "        pidlist.append(line.split(\" \")[-2].split(\"=\")[-1])\n",
    "        \n",
    "        # was going to use a seperate doc for pids, ended up using a list\n",
    "        #with open('krakenout.txt', 'a') as k:\n",
    "        #    k.write(line.split(\" \")[-2].split(\"=\")[-1] + ' ')\n",
    "\n",
    "print(pidlist)\n"
   ]
  },
  {
   "cell_type": "markdown",
   "metadata": {},
   "source": [
    "Executing lsof using PIDs from above\n"
   ]
  },
  {
   "cell_type": "code",
   "execution_count": 42,
   "metadata": {},
   "outputs": [
    {
     "name": "stdout",
     "output_type": "stream",
     "text": [
      "Process ID: 519423\n",
      "\n",
      "['NAME\\n', '/\\n', '/\\n', '/snap/snapd/17336/usr/lib/snapd/snapd\\n', '/usr/lib/x86_64-linux-gnu/libresolv-2.31.so\\n', '/usr/lib/x86_64-linux-gnu/libnss_dns-2.31.so\\n', '/usr/lib/x86_64-linux-gnu/libnss_files-2.31.so\\n', '/usr/lib/x86_64-linux-gnu/libc-2.31.so\\n', '/usr/lib/x86_64-linux-gnu/libpthread-2.31.so\\n', '/usr/lib/x86_64-linux-gnu/ld-2.31.so\\n', '/dev/null\\n', 'type=STREAM\\n', 'type=STREAM\\n', 'type=STREAM\\n', '/run/snapd.socket\\n', '[eventpoll]\\n', '/var/lib/snapd/state.lock\\n', '/run/snapd-snap.socket\\n', '\\n', 'pipe\\n', 'pipe\\n']\n",
      "\n",
      "\n",
      "Process ID: 561559\n",
      "\n",
      "['NAME\\n', '/home/p.dalton\\n', '/\\n', '/usr/local/bin/egrep\\n', '/usr/lib/x86_64-linux-gnu/libc-2.31.so\\n', '/usr/lib/x86_64-linux-gnu/libpthread-2.31.so\\n', '/usr/lib/x86_64-linux-gnu/ld-2.31.so\\n', '/dev/null\\n', '/home/p.dalton/.d.log\\n', '/home/p.dalton/.d.log\\n', '/dev/null\\n', '/home/p.dalton/d.pid\\n', '*:http-alt\\n', '[eventpoll]\\n', 'pipe\\n', 'pipe\\n']\n",
      "\n",
      "\n",
      "['libresolv-2.31.so\\n', 'libnss_dns-2.31.so\\n', 'libnss_files-2.31.so\\n', 'libc-2.31.so\\n', 'libpthread-2.31.so\\n', 'ld-2.31.so\\n', 'libc-2.31.so\\n', 'libpthread-2.31.so\\n', 'ld-2.31.so\\n']\n"
     ]
    }
   ],
   "source": [
    "filelist = []\n",
    "\n",
    "for i in pidlist:\n",
    "    stdin, stdout, stderr = ssh.exec_command(\"sudo -S lsof -p \" + str(i) + \" | awk '{print $9}'\")\n",
    "\n",
    "    stdin.write(thepass + '\\n')\n",
    "    stdin.flush()\n",
    "\n",
    "    print(\"Process ID: \" + i + '\\n')\n",
    "    ff = (stdout.readlines())\n",
    "    print(ff)\n",
    "    print('\\n')\n",
    "    \n",
    "    pidout = ff[3:]\n",
    "    \n",
    "    for f in pidout:\n",
    "        filenames = (f.split('/')[-1])\n",
    "        #print(filenames)\n",
    "        \n",
    "        if \".so\\n\" in filenames:\n",
    "            filelist.append(filenames)\n",
    "\n",
    "print(filelist)\n",
    "\n",
    "\n"
   ]
  },
  {
   "cell_type": "markdown",
   "metadata": {},
   "source": [
    "Using the Results above, download the suspicious files. "
   ]
  },
  {
   "cell_type": "code",
   "execution_count": 60,
   "metadata": {},
   "outputs": [
    {
     "ename": "FileNotFoundError",
     "evalue": "[Errno 2] No such file or directory: 'Week7\\\\Classwork\\\\SusFiles'",
     "output_type": "error",
     "traceback": [
      "\u001b[1;31m---------------------------------------------------------------------------\u001b[0m",
      "\u001b[1;31mFileNotFoundError\u001b[0m                         Traceback (most recent call last)",
      "Cell \u001b[1;32mIn [60], line 4\u001b[0m\n\u001b[0;32m      1\u001b[0m sftp \u001b[39m=\u001b[39m ssh\u001b[39m.\u001b[39mopen_sftp()\n\u001b[0;32m      3\u001b[0m \u001b[39mfor\u001b[39;00m file \u001b[39min\u001b[39;00m filelist:\n\u001b[1;32m----> 4\u001b[0m     sftp\u001b[39m.\u001b[39;49mget(file, \u001b[39m'\u001b[39;49m\u001b[39mWeek7\u001b[39;49m\u001b[39m\\\u001b[39;49m\u001b[39mClasswork\u001b[39;49m\u001b[39m\\\u001b[39;49m\u001b[39mSusFiles\u001b[39;49m\u001b[39m'\u001b[39;49m)\n",
      "File \u001b[1;32m~\\AppData\\Local\\Packages\\PythonSoftwareFoundation.Python.3.10_qbz5n2kfra8p0\\LocalCache\\local-packages\\Python310\\site-packages\\paramiko\\sftp_client.py:810\u001b[0m, in \u001b[0;36mSFTPClient.get\u001b[1;34m(self, remotepath, localpath, callback, prefetch)\u001b[0m\n\u001b[0;32m    790\u001b[0m \u001b[39mdef\u001b[39;00m \u001b[39mget\u001b[39m(\u001b[39mself\u001b[39m, remotepath, localpath, callback\u001b[39m=\u001b[39m\u001b[39mNone\u001b[39;00m, prefetch\u001b[39m=\u001b[39m\u001b[39mTrue\u001b[39;00m):\n\u001b[0;32m    791\u001b[0m     \u001b[39m\"\"\"\u001b[39;00m\n\u001b[0;32m    792\u001b[0m \u001b[39m    Copy a remote file (``remotepath``) from the SFTP server to the local\u001b[39;00m\n\u001b[0;32m    793\u001b[0m \u001b[39m    host as ``localpath``.  Any exception raised by operations will be\u001b[39;00m\n\u001b[1;32m   (...)\u001b[0m\n\u001b[0;32m    808\u001b[0m \u001b[39m        Added the ``prefetch`` keyword argument.\u001b[39;00m\n\u001b[0;32m    809\u001b[0m \u001b[39m    \"\"\"\u001b[39;00m\n\u001b[1;32m--> 810\u001b[0m     \u001b[39mwith\u001b[39;00m \u001b[39mopen\u001b[39;49m(localpath, \u001b[39m\"\u001b[39;49m\u001b[39mwb\u001b[39;49m\u001b[39m\"\u001b[39;49m) \u001b[39mas\u001b[39;00m fl:\n\u001b[0;32m    811\u001b[0m         size \u001b[39m=\u001b[39m \u001b[39mself\u001b[39m\u001b[39m.\u001b[39mgetfo(remotepath, fl, callback, prefetch)\n\u001b[0;32m    812\u001b[0m     s \u001b[39m=\u001b[39m os\u001b[39m.\u001b[39mstat(localpath)\n",
      "\u001b[1;31mFileNotFoundError\u001b[0m: [Errno 2] No such file or directory: 'Week7\\\\Classwork\\\\SusFiles'"
     ]
    }
   ],
   "source": [
    "sftp = ssh.open_sftp()\n",
    "\n",
    "for file in filelist:\n",
    "    sftp.get(file, 'Week7\\Classwork\\SusFiles')\n"
   ]
  },
  {
   "cell_type": "markdown",
   "metadata": {},
   "source": [
    "5\n"
   ]
  },
  {
   "cell_type": "code",
   "execution_count": 71,
   "metadata": {},
   "outputs": [
    {
     "ename": "SSHException",
     "evalue": "SSH session not active",
     "output_type": "error",
     "traceback": [
      "\u001b[1;31m---------------------------------------------------------------------------\u001b[0m",
      "\u001b[1;31mSSHException\u001b[0m                              Traceback (most recent call last)",
      "Cell \u001b[1;32mIn [71], line 2\u001b[0m\n\u001b[0;32m      1\u001b[0m \u001b[39mfor\u001b[39;00m i \u001b[39min\u001b[39;00m pidlist:\n\u001b[1;32m----> 2\u001b[0m     stdin, stdout, stderr \u001b[39m=\u001b[39m ssh\u001b[39m.\u001b[39;49mexec_command(\u001b[39m\"\u001b[39;49m\u001b[39msudo -S lsof -p \u001b[39;49m\u001b[39m\"\u001b[39;49m \u001b[39m+\u001b[39;49m \u001b[39mstr\u001b[39;49m(i))\n\u001b[0;32m      4\u001b[0m     stdin\u001b[39m.\u001b[39mwrite(thepass \u001b[39m+\u001b[39m \u001b[39m'\u001b[39m\u001b[39m\\n\u001b[39;00m\u001b[39m'\u001b[39m)\n\u001b[0;32m      5\u001b[0m     stdin\u001b[39m.\u001b[39mflush()\n",
      "File \u001b[1;32m~\\AppData\\Local\\Packages\\PythonSoftwareFoundation.Python.3.10_qbz5n2kfra8p0\\LocalCache\\local-packages\\Python310\\site-packages\\paramiko\\client.py:510\u001b[0m, in \u001b[0;36mSSHClient.exec_command\u001b[1;34m(self, command, bufsize, timeout, get_pty, environment)\u001b[0m\n\u001b[0;32m    470\u001b[0m \u001b[39mdef\u001b[39;00m \u001b[39mexec_command\u001b[39m(\n\u001b[0;32m    471\u001b[0m     \u001b[39mself\u001b[39m,\n\u001b[0;32m    472\u001b[0m     command,\n\u001b[1;32m   (...)\u001b[0m\n\u001b[0;32m    476\u001b[0m     environment\u001b[39m=\u001b[39m\u001b[39mNone\u001b[39;00m,\n\u001b[0;32m    477\u001b[0m ):\n\u001b[0;32m    478\u001b[0m     \u001b[39m\"\"\"\u001b[39;00m\n\u001b[0;32m    479\u001b[0m \u001b[39m    Execute a command on the SSH server.  A new `.Channel` is opened and\u001b[39;00m\n\u001b[0;32m    480\u001b[0m \u001b[39m    the requested command is executed.  The command's input and output\u001b[39;00m\n\u001b[1;32m   (...)\u001b[0m\n\u001b[0;32m    508\u001b[0m \u001b[39m        Added the ``get_pty`` kwarg.\u001b[39;00m\n\u001b[0;32m    509\u001b[0m \u001b[39m    \"\"\"\u001b[39;00m\n\u001b[1;32m--> 510\u001b[0m     chan \u001b[39m=\u001b[39m \u001b[39mself\u001b[39;49m\u001b[39m.\u001b[39;49m_transport\u001b[39m.\u001b[39;49mopen_session(timeout\u001b[39m=\u001b[39;49mtimeout)\n\u001b[0;32m    511\u001b[0m     \u001b[39mif\u001b[39;00m get_pty:\n\u001b[0;32m    512\u001b[0m         chan\u001b[39m.\u001b[39mget_pty()\n",
      "File \u001b[1;32m~\\AppData\\Local\\Packages\\PythonSoftwareFoundation.Python.3.10_qbz5n2kfra8p0\\LocalCache\\local-packages\\Python310\\site-packages\\paramiko\\transport.py:920\u001b[0m, in \u001b[0;36mTransport.open_session\u001b[1;34m(self, window_size, max_packet_size, timeout)\u001b[0m\n\u001b[0;32m    892\u001b[0m \u001b[39mdef\u001b[39;00m \u001b[39mopen_session\u001b[39m(\n\u001b[0;32m    893\u001b[0m     \u001b[39mself\u001b[39m, window_size\u001b[39m=\u001b[39m\u001b[39mNone\u001b[39;00m, max_packet_size\u001b[39m=\u001b[39m\u001b[39mNone\u001b[39;00m, timeout\u001b[39m=\u001b[39m\u001b[39mNone\u001b[39;00m\n\u001b[0;32m    894\u001b[0m ):\n\u001b[0;32m    895\u001b[0m     \u001b[39m\"\"\"\u001b[39;00m\n\u001b[0;32m    896\u001b[0m \u001b[39m    Request a new channel to the server, of type ``\"session\"``.  This is\u001b[39;00m\n\u001b[0;32m    897\u001b[0m \u001b[39m    just an alias for calling `open_channel` with an argument of\u001b[39;00m\n\u001b[1;32m   (...)\u001b[0m\n\u001b[0;32m    918\u001b[0m \u001b[39m        Added the ``window_size`` and ``max_packet_size`` arguments.\u001b[39;00m\n\u001b[0;32m    919\u001b[0m \u001b[39m    \"\"\"\u001b[39;00m\n\u001b[1;32m--> 920\u001b[0m     \u001b[39mreturn\u001b[39;00m \u001b[39mself\u001b[39;49m\u001b[39m.\u001b[39;49mopen_channel(\n\u001b[0;32m    921\u001b[0m         \u001b[39m\"\u001b[39;49m\u001b[39msession\u001b[39;49m\u001b[39m\"\u001b[39;49m,\n\u001b[0;32m    922\u001b[0m         window_size\u001b[39m=\u001b[39;49mwindow_size,\n\u001b[0;32m    923\u001b[0m         max_packet_size\u001b[39m=\u001b[39;49mmax_packet_size,\n\u001b[0;32m    924\u001b[0m         timeout\u001b[39m=\u001b[39;49mtimeout,\n\u001b[0;32m    925\u001b[0m     )\n",
      "File \u001b[1;32m~\\AppData\\Local\\Packages\\PythonSoftwareFoundation.Python.3.10_qbz5n2kfra8p0\\LocalCache\\local-packages\\Python310\\site-packages\\paramiko\\transport.py:1014\u001b[0m, in \u001b[0;36mTransport.open_channel\u001b[1;34m(self, kind, dest_addr, src_addr, window_size, max_packet_size, timeout)\u001b[0m\n\u001b[0;32m    978\u001b[0m \u001b[39m\"\"\"\u001b[39;00m\n\u001b[0;32m    979\u001b[0m \u001b[39mRequest a new channel to the server. `Channels <.Channel>` are\u001b[39;00m\n\u001b[0;32m    980\u001b[0m \u001b[39msocket-like objects used for the actual transfer of data across the\u001b[39;00m\n\u001b[1;32m   (...)\u001b[0m\n\u001b[0;32m   1011\u001b[0m \u001b[39m    Added the ``window_size`` and ``max_packet_size`` arguments.\u001b[39;00m\n\u001b[0;32m   1012\u001b[0m \u001b[39m\"\"\"\u001b[39;00m\n\u001b[0;32m   1013\u001b[0m \u001b[39mif\u001b[39;00m \u001b[39mnot\u001b[39;00m \u001b[39mself\u001b[39m\u001b[39m.\u001b[39mactive:\n\u001b[1;32m-> 1014\u001b[0m     \u001b[39mraise\u001b[39;00m SSHException(\u001b[39m\"\u001b[39m\u001b[39mSSH session not active\u001b[39m\u001b[39m\"\u001b[39m)\n\u001b[0;32m   1015\u001b[0m timeout \u001b[39m=\u001b[39m \u001b[39m3600\u001b[39m \u001b[39mif\u001b[39;00m timeout \u001b[39mis\u001b[39;00m \u001b[39mNone\u001b[39;00m \u001b[39melse\u001b[39;00m timeout\n\u001b[0;32m   1016\u001b[0m \u001b[39mself\u001b[39m\u001b[39m.\u001b[39mlock\u001b[39m.\u001b[39macquire()\n",
      "\u001b[1;31mSSHException\u001b[0m: SSH session not active"
     ]
    }
   ],
   "source": [
    "for i in pidlist:\n",
    "    stdin, stdout, stderr = ssh.exec_command(\"sudo -S lsof -p \" + str(i))\n",
    "\n",
    "    stdin.write(thepass + '\\n')\n",
    "    stdin.flush()\n",
    "\n",
    "    print(\"Process ID: \" + i + '\\n')\n",
    "    ez = (stdout.readlines())\n",
    "    print(ez)\n",
    "    print('\\n')\n",
    "    \n",
    "stdin, stdout, stderr = ssh.exec_command(\"ls -a /home/p.dalton\")\n",
    "\n",
    "for x in stdout.readlines():\n",
    "    print(x)\n"
   ]
  },
  {
   "cell_type": "markdown",
   "metadata": {},
   "source": [
    "What is the process name?\n",
    "\n",
    "egrep\n",
    "\n",
    "Which user is running the process?\n",
    "\n",
    "p.dalton\n",
    "\n",
    "Has the user logged in before via SSH?\n",
    "\n",
    "Yes\n",
    "\n",
    "When did the user login?\n",
    "\n",
    "Last Login was Oct 25 at 11:32 PM\n",
    "\n",
    "How long was the login session?\n",
    "\n",
    "9 min\n",
    "\n",
    "What is located in the unauthorized user’s home directory?\n",
    "\n",
    "aqwerpuqwerj, d.pid, test-lk\n",
    "\n",
    "Download any suspicious files.\n"
   ]
  },
  {
   "cell_type": "markdown",
   "metadata": {},
   "source": [
    "Based on what you discovered and the information in the threat report, what is your conclusion about the host you analyzed?\n",
    "\n",
    "The host we analyzed does seem to have a breach with the user p.dalton running unknonwn commands through SSH as well as having multiple suspicious files within their home dir. \n",
    "\n",
    "What did you like the most and least about this assignment?\n",
    "\n",
    "I liked being able to work with ssh through python although it was very tedious and difficult to manuever. \n",
    "I disliked how the lab was worded and wish it was both a bit more clear with both the wording as well as what it would like us to do. "
   ]
  },
  {
   "cell_type": "code",
   "execution_count": null,
   "metadata": {},
   "outputs": [],
   "source": [
    "ssh.close"
   ]
  }
 ],
 "metadata": {
  "kernelspec": {
   "display_name": "Python 3.10.8 64-bit (microsoft store)",
   "language": "python",
   "name": "python3"
  },
  "language_info": {
   "codemirror_mode": {
    "name": "ipython",
    "version": 3
   },
   "file_extension": ".py",
   "mimetype": "text/x-python",
   "name": "python",
   "nbconvert_exporter": "python",
   "pygments_lexer": "ipython3",
   "version": "3.10.8"
  },
  "orig_nbformat": 4,
  "vscode": {
   "interpreter": {
    "hash": "59ad53e65925c4bca10636774999a2b2bb9e203c3fdf8c7650fde60d48a8d7fb"
   }
  }
 },
 "nbformat": 4,
 "nbformat_minor": 2
}
