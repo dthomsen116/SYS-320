{
 "cells": [
  {
   "cell_type": "markdown",
   "metadata": {},
   "source": [
    "SSH into the server"
   ]
  },
  {
   "cell_type": "code",
   "execution_count": 50,
   "metadata": {},
   "outputs": [],
   "source": [
    "import paramiko\n",
    "from getpass import getpass\n",
    "\n",
    "#create pass prompt\n",
    "thepass = getpass(prompt=\"Please enter SSH Password\")\n",
    "\n",
    "#host information\n",
    "host = \"192.168.6.71\"\n",
    "port = 2222\n",
    "#username = test \n",
    "#password = password\n",
    "username = \"david.thomsen\"\n",
    "password = thepass\n",
    "\n",
    "try:\n",
    "    \n",
    "    ssh = paramiko.SSHClient()\n",
    "    ssh.set_missing_host_key_policy(paramiko.AutoAddPolicy())\n",
    "    ssh.connect(host, port, username, password)\n",
    "    \n",
    "except paramiko.AuthenticationException:\n",
    "    print(\"auth failed\")"
   ]
  },
  {
   "cell_type": "code",
   "execution_count": 49,
   "metadata": {},
   "outputs": [
    {
     "data": {
      "text/plain": [
       "<bound method SSHClient.close of <paramiko.client.SSHClient object at 0x00000203B5442F50>>"
      ]
     },
     "execution_count": 49,
     "metadata": {},
     "output_type": "execute_result"
    }
   ],
   "source": [
    "ssh.close"
   ]
  },
  {
   "cell_type": "code",
   "execution_count": 46,
   "metadata": {},
   "outputs": [],
   "source": [
    "command = ['cd /etc','ls -pa' ]\n",
    "\n",
    "for eachCMD in command:\n",
    "    #get output from the command\n",
    "    stdin, stdout, stderr = ssh.exec_command(eachCMD)\n",
    "\n",
    "    #get results from the stdout\n",
    "    lines = stdout.readlines()\n",
    "\n",
    "    #convert the list to a string\n",
    "    output = ''.join(lines)\n",
    "    \n",
    "   \n",
    "    \n",
    "    #header and footer output\n",
    "    sepheader = '' + '### BEGIN ' + eachCMD + ' ###\\n\\n'\n",
    "    sepfooter = '' + '### END ' + eachCMD + ' ###\\n\\n'\n",
    "\n",
    "    cmd_output = sepheader + output + sepfooter\n",
    "    #print(cmd_output)\n",
    "    \n",
    "    with open('test.txt', 'w') as f:     \n",
    "         f.write(cmd_output)"
   ]
  },
  {
   "cell_type": "code",
   "execution_count": 52,
   "metadata": {},
   "outputs": [],
   "source": [
    "ssh.exec_command('cd /etc/')\n",
    "stdin, stdout, stderr = ssh.exec_command('ls')\n",
    "\n",
    "for i in stdout.readlines():\n",
    "    print(i)"
   ]
  },
  {
   "cell_type": "code",
   "execution_count": 43,
   "metadata": {},
   "outputs": [
    {
     "ename": "OSError",
     "evalue": "Failure",
     "output_type": "error",
     "traceback": [
      "\u001b[1;31m---------------------------------------------------------------------------\u001b[0m",
      "\u001b[1;31mOSError\u001b[0m                                   Traceback (most recent call last)",
      "Cell \u001b[1;32mIn [43], line 4\u001b[0m\n\u001b[0;32m      1\u001b[0m sftp \u001b[39m=\u001b[39m ssh\u001b[39m.\u001b[39mopen_sftp()\n\u001b[1;32m----> 4\u001b[0m sftp\u001b[39m.\u001b[39;49mput(\u001b[39m'\u001b[39;49m\u001b[39mkraken\u001b[39;49m\u001b[39m'\u001b[39;49m, \u001b[39m\"\u001b[39;49m\u001b[39m/home/ubuntu\u001b[39;49m\u001b[39m\"\u001b[39;49m)\n\u001b[0;32m      7\u001b[0m stdin, stdout, stderr \u001b[39m=\u001b[39m ssh\u001b[39m.\u001b[39mexec_command(\u001b[39m'\u001b[39m\u001b[39mls\u001b[39m\u001b[39m'\u001b[39m)\n\u001b[0;32m      8\u001b[0m \u001b[39mprint\u001b[39m(stdout\u001b[39m.\u001b[39mreadlines())\n",
      "File \u001b[1;32m~\\AppData\\Local\\Packages\\PythonSoftwareFoundation.Python.3.10_qbz5n2kfra8p0\\LocalCache\\local-packages\\Python310\\site-packages\\paramiko\\sftp_client.py:759\u001b[0m, in \u001b[0;36mSFTPClient.put\u001b[1;34m(self, localpath, remotepath, callback, confirm)\u001b[0m\n\u001b[0;32m    757\u001b[0m file_size \u001b[39m=\u001b[39m os\u001b[39m.\u001b[39mstat(localpath)\u001b[39m.\u001b[39mst_size\n\u001b[0;32m    758\u001b[0m \u001b[39mwith\u001b[39;00m \u001b[39mopen\u001b[39m(localpath, \u001b[39m\"\u001b[39m\u001b[39mrb\u001b[39m\u001b[39m\"\u001b[39m) \u001b[39mas\u001b[39;00m fl:\n\u001b[1;32m--> 759\u001b[0m     \u001b[39mreturn\u001b[39;00m \u001b[39mself\u001b[39;49m\u001b[39m.\u001b[39;49mputfo(fl, remotepath, file_size, callback, confirm)\n",
      "File \u001b[1;32m~\\AppData\\Local\\Packages\\PythonSoftwareFoundation.Python.3.10_qbz5n2kfra8p0\\LocalCache\\local-packages\\Python310\\site-packages\\paramiko\\sftp_client.py:714\u001b[0m, in \u001b[0;36mSFTPClient.putfo\u001b[1;34m(self, fl, remotepath, file_size, callback, confirm)\u001b[0m\n\u001b[0;32m    687\u001b[0m \u001b[39mdef\u001b[39;00m \u001b[39mputfo\u001b[39m(\u001b[39mself\u001b[39m, fl, remotepath, file_size\u001b[39m=\u001b[39m\u001b[39m0\u001b[39m, callback\u001b[39m=\u001b[39m\u001b[39mNone\u001b[39;00m, confirm\u001b[39m=\u001b[39m\u001b[39mTrue\u001b[39;00m):\n\u001b[0;32m    688\u001b[0m     \u001b[39m\"\"\"\u001b[39;00m\n\u001b[0;32m    689\u001b[0m \u001b[39m    Copy the contents of an open file object (``fl``) to the SFTP server as\u001b[39;00m\n\u001b[0;32m    690\u001b[0m \u001b[39m    ``remotepath``. Any exception raised by operations will be passed\u001b[39;00m\n\u001b[1;32m   (...)\u001b[0m\n\u001b[0;32m    712\u001b[0m \u001b[39m    .. versionadded:: 1.10\u001b[39;00m\n\u001b[0;32m    713\u001b[0m \u001b[39m    \"\"\"\u001b[39;00m\n\u001b[1;32m--> 714\u001b[0m     \u001b[39mwith\u001b[39;00m \u001b[39mself\u001b[39;49m\u001b[39m.\u001b[39;49mfile(remotepath, \u001b[39m\"\u001b[39;49m\u001b[39mwb\u001b[39;49m\u001b[39m\"\u001b[39;49m) \u001b[39mas\u001b[39;00m fr:\n\u001b[0;32m    715\u001b[0m         fr\u001b[39m.\u001b[39mset_pipelined(\u001b[39mTrue\u001b[39;00m)\n\u001b[0;32m    716\u001b[0m         size \u001b[39m=\u001b[39m \u001b[39mself\u001b[39m\u001b[39m.\u001b[39m_transfer_with_callback(\n\u001b[0;32m    717\u001b[0m             reader\u001b[39m=\u001b[39mfl, writer\u001b[39m=\u001b[39mfr, file_size\u001b[39m=\u001b[39mfile_size, callback\u001b[39m=\u001b[39mcallback\n\u001b[0;32m    718\u001b[0m         )\n",
      "File \u001b[1;32m~\\AppData\\Local\\Packages\\PythonSoftwareFoundation.Python.3.10_qbz5n2kfra8p0\\LocalCache\\local-packages\\Python310\\site-packages\\paramiko\\sftp_client.py:372\u001b[0m, in \u001b[0;36mSFTPClient.open\u001b[1;34m(self, filename, mode, bufsize)\u001b[0m\n\u001b[0;32m    370\u001b[0m     imode \u001b[39m|\u001b[39m\u001b[39m=\u001b[39m SFTP_FLAG_CREATE \u001b[39m|\u001b[39m SFTP_FLAG_EXCL\n\u001b[0;32m    371\u001b[0m attrblock \u001b[39m=\u001b[39m SFTPAttributes()\n\u001b[1;32m--> 372\u001b[0m t, msg \u001b[39m=\u001b[39m \u001b[39mself\u001b[39;49m\u001b[39m.\u001b[39;49m_request(CMD_OPEN, filename, imode, attrblock)\n\u001b[0;32m    373\u001b[0m \u001b[39mif\u001b[39;00m t \u001b[39m!=\u001b[39m CMD_HANDLE:\n\u001b[0;32m    374\u001b[0m     \u001b[39mraise\u001b[39;00m SFTPError(\u001b[39m\"\u001b[39m\u001b[39mExpected handle\u001b[39m\u001b[39m\"\u001b[39m)\n",
      "File \u001b[1;32m~\\AppData\\Local\\Packages\\PythonSoftwareFoundation.Python.3.10_qbz5n2kfra8p0\\LocalCache\\local-packages\\Python310\\site-packages\\paramiko\\sftp_client.py:822\u001b[0m, in \u001b[0;36mSFTPClient._request\u001b[1;34m(self, t, *arg)\u001b[0m\n\u001b[0;32m    820\u001b[0m \u001b[39mdef\u001b[39;00m \u001b[39m_request\u001b[39m(\u001b[39mself\u001b[39m, t, \u001b[39m*\u001b[39marg):\n\u001b[0;32m    821\u001b[0m     num \u001b[39m=\u001b[39m \u001b[39mself\u001b[39m\u001b[39m.\u001b[39m_async_request(\u001b[39mtype\u001b[39m(\u001b[39mNone\u001b[39;00m), t, \u001b[39m*\u001b[39marg)\n\u001b[1;32m--> 822\u001b[0m     \u001b[39mreturn\u001b[39;00m \u001b[39mself\u001b[39;49m\u001b[39m.\u001b[39;49m_read_response(num)\n",
      "File \u001b[1;32m~\\AppData\\Local\\Packages\\PythonSoftwareFoundation.Python.3.10_qbz5n2kfra8p0\\LocalCache\\local-packages\\Python310\\site-packages\\paramiko\\sftp_client.py:874\u001b[0m, in \u001b[0;36mSFTPClient._read_response\u001b[1;34m(self, waitfor)\u001b[0m\n\u001b[0;32m    871\u001b[0m \u001b[39mif\u001b[39;00m num \u001b[39m==\u001b[39m waitfor:\n\u001b[0;32m    872\u001b[0m     \u001b[39m# synchronous\u001b[39;00m\n\u001b[0;32m    873\u001b[0m     \u001b[39mif\u001b[39;00m t \u001b[39m==\u001b[39m CMD_STATUS:\n\u001b[1;32m--> 874\u001b[0m         \u001b[39mself\u001b[39;49m\u001b[39m.\u001b[39;49m_convert_status(msg)\n\u001b[0;32m    875\u001b[0m     \u001b[39mreturn\u001b[39;00m t, msg\n\u001b[0;32m    877\u001b[0m \u001b[39m# can not rewrite this to deal with E721, either as a None check\u001b[39;00m\n\u001b[0;32m    878\u001b[0m \u001b[39m# nor as not an instance of None or NoneType\u001b[39;00m\n",
      "File \u001b[1;32m~\\AppData\\Local\\Packages\\PythonSoftwareFoundation.Python.3.10_qbz5n2kfra8p0\\LocalCache\\local-packages\\Python310\\site-packages\\paramiko\\sftp_client.py:907\u001b[0m, in \u001b[0;36mSFTPClient._convert_status\u001b[1;34m(self, msg)\u001b[0m\n\u001b[0;32m    905\u001b[0m     \u001b[39mraise\u001b[39;00m \u001b[39mIOError\u001b[39;00m(errno\u001b[39m.\u001b[39mEACCES, text)\n\u001b[0;32m    906\u001b[0m \u001b[39melse\u001b[39;00m:\n\u001b[1;32m--> 907\u001b[0m     \u001b[39mraise\u001b[39;00m \u001b[39mIOError\u001b[39;00m(text)\n",
      "\u001b[1;31mOSError\u001b[0m: Failure"
     ]
    }
   ],
   "source": [
    "sftp = ssh.open_sftp()\n",
    "\n",
    "\n",
    "sftp.put('kraken', \"/home/ubuntu\")\n",
    "\n",
    "\n",
    "stdin, stdout, stderr = ssh.exec_command('ls')\n",
    "print(stdout.readlines())"
   ]
  }
 ],
 "metadata": {
  "kernelspec": {
   "display_name": "Python 3.10.8 64-bit (microsoft store)",
   "language": "python",
   "name": "python3"
  },
  "language_info": {
   "codemirror_mode": {
    "name": "ipython",
    "version": 3
   },
   "file_extension": ".py",
   "mimetype": "text/x-python",
   "name": "python",
   "nbconvert_exporter": "python",
   "pygments_lexer": "ipython3",
   "version": "3.10.8"
  },
  "orig_nbformat": 4,
  "vscode": {
   "interpreter": {
    "hash": "59ad53e65925c4bca10636774999a2b2bb9e203c3fdf8c7650fde60d48a8d7fb"
   }
  }
 },
 "nbformat": 4,
 "nbformat_minor": 2
}
