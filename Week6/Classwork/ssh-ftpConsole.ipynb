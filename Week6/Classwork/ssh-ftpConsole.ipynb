{
 "cells": [
  {
   "cell_type": "markdown",
   "metadata": {},
   "source": [
    "### SSH Connection"
   ]
  },
  {
   "cell_type": "code",
   "execution_count": 19,
   "metadata": {},
   "outputs": [],
   "source": [
    "import paramiko\n",
    "from getpass import getpass\n",
    "\n",
    "#create pass prompt\n",
    "thepass = getpass(prompt=\"Please enter SSH Password\")\n",
    "\n",
    "#host information\n",
    "host = \"localhost\"\n",
    "port = 22\n",
    "#username = test \n",
    "#password = password\n",
    "username = \"test\"\n",
    "password = thepass\n",
    "\n",
    "try:\n",
    "    \n",
    "    ssh = paramiko.SSHClient()\n",
    "    ssh.set_missing_host_key_policy(paramiko.AutoAddPolicy())\n",
    "    ssh.connect(host, port, username, password)\n",
    "    \n",
    "except paramiko.AuthenticationException:\n",
    "    print(\"auth failed\")"
   ]
  },
  {
   "cell_type": "markdown",
   "metadata": {},
   "source": [
    "### Testing the file names"
   ]
  },
  {
   "cell_type": "code",
   "execution_count": 21,
   "metadata": {},
   "outputs": [
    {
     "data": {
      "text/plain": [
       "<bound method SSHClient.close of <paramiko.client.SSHClient object at 0x0000017F74E7B550>>"
      ]
     },
     "execution_count": 21,
     "metadata": {},
     "output_type": "execute_result"
    }
   ],
   "source": [
    "sftp = ssh.open_sftp()\n",
    "\n",
    "sftp.get(r'D:\\Test1.txt', \"testfiles\")\n",
    "\n",
    "ssh.close"
   ]
  },
  {
   "cell_type": "markdown",
   "metadata": {},
   "source": [
    "### FTP download\n"
   ]
  },
  {
   "cell_type": "code",
   "execution_count": 25,
   "metadata": {},
   "outputs": [
    {
     "data": {
      "text/plain": [
       "<bound method SSHClient.close of <paramiko.client.SSHClient object at 0x0000017F74E7B550>>"
      ]
     },
     "execution_count": 25,
     "metadata": {},
     "output_type": "execute_result"
    }
   ],
   "source": [
    "sftp = ssh.open_sftp()\n",
    "\n",
    "#changed this a bit, used r for a raw string to avoid an error, and used a test file i created as I dont have an /etc/hosts\n",
    "files = [r'D:\\Test1.txt', r'D:\\Test2.txt', r'D:\\Test3.txt', ]\n",
    "\n",
    "for eachfile in files:\n",
    "    \n",
    "    #create a list from file name\n",
    "    x = eachfile.split(\"\\\\\")\n",
    "    \n",
    "    #print(x)\n",
    "    \n",
    "    #minus 1 is used to grab the last element\n",
    "    filename = x[-1]\n",
    "\n",
    "    #local path to store files\n",
    "    localpath = \"remote_files\\\\\" + filename\n",
    "\n",
    "\n",
    "    sftp.get(eachfile, localpath)\n",
    "\n",
    "ssh.close"
   ]
  },
  {
   "cell_type": "code",
   "execution_count": null,
   "metadata": {},
   "outputs": [],
   "source": []
  }
 ],
 "metadata": {
  "kernelspec": {
   "display_name": "Python 3.10.7 64-bit",
   "language": "python",
   "name": "python3"
  },
  "language_info": {
   "codemirror_mode": {
    "name": "ipython",
    "version": 3
   },
   "file_extension": ".py",
   "mimetype": "text/x-python",
   "name": "python",
   "nbconvert_exporter": "python",
   "pygments_lexer": "ipython3",
   "version": "3.10.7"
  },
  "orig_nbformat": 4,
  "vscode": {
   "interpreter": {
    "hash": "e98a32691829307ecf51a330221c2f4d88d6a48dbf9e49abb0647efe438d1cf2"
   }
  }
 },
 "nbformat": 4,
 "nbformat_minor": 2
}
