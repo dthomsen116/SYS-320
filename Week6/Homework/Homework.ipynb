{
 "cells": [
  {
   "cell_type": "code",
   "execution_count": 9,
   "metadata": {},
   "outputs": [],
   "source": [
    "from os.path import exists\n",
    "import os"
   ]
  },
  {
   "cell_type": "markdown",
   "metadata": {},
   "source": [
    "Before the ssh password login prompt:\n",
    "\n",
    "Check to see if the file specified for the results exists.\n",
    "   prompt the user that the file exists and if they want to delete it.\n",
    "      if so, then the user provides the response\n",
    "          delete the file.\n"
   ]
  },
  {
   "cell_type": "code",
   "execution_count": 10,
   "metadata": {},
   "outputs": [
    {
     "name": "stdout",
     "output_type": "stream",
     "text": [
      "file not deleted.\n"
     ]
    }
   ],
   "source": [
    "files = [r'D:\\Test1.txt', r'D:\\Test2.txt', r'D:\\Test3.txt', ]\n",
    "\n",
    "for eachFile in files:\n",
    "    exist = os.path.exists(eachFile)\n",
    "    #print(exist)\n",
    "    \n",
    "    if exist == True:\n",
    "        userinput = input(\"This File exists. Would you like to delete it? (y/n)\")\n",
    "        \n",
    "        if userinput == \"y\" or userinput == \"Y\":\n",
    "            os.remove(eachFile)\n",
    "        \n",
    "        elif userinput == \"n\" or userinput == \"N\":\n",
    "            print(\"file not deleted.\")\n",
    "        \n",
    "        else:\n",
    "            print(\"please retry and use only 'y' or 'n'\")\n",
    "            \n",
    "                        \n",
    "    \n",
    "    else:\n",
    "        print(\"file does not exist\")\n",
    "            "
   ]
  },
  {
   "cell_type": "markdown",
   "metadata": {},
   "source": [
    "Command Lists\n"
   ]
  },
  {
   "cell_type": "markdown",
   "metadata": {},
   "source": [
    "Under \"Collecting Information\" are several sections.  From each section take the first 5 commands and put them into lists.  Be aware that you will be running all of those commands next week so be sure you structure the commands in a way that is simple for you to run them all."
   ]
  },
  {
   "cell_type": "code",
   "execution_count": 11,
   "metadata": {},
   "outputs": [],
   "source": [
    "blind_files = [\"/etc/resolv.conf\",\"/etc/motd\",\"/etc/issue\",\"/etc/passwd\",\"/etc/shadow\"]\n",
    "\n",
    "system = [\"uname -a\",\"ps aux\",\"top -n 1 -d\",\"id\",\"arch, uname -m\"]\n",
    "\n",
    "networking = [\"hostname -f\",\"ip addr show\",\"ip ro show\",\"ifconfig -a\",\"route -n\"]\n",
    "\n",
    "user_accounts = [\"cat /etc/passwd\",\"cat /etc/shadow\",\"/etc/security/passwd\",\"cat /etc/group\",\"getent passwd\"]\n",
    "\n",
    "user_info = [\"ls -alh /home/*/\",\"ls -alh /home/*/.ssh/\",\"cat /home/*/.ssh/authorized_keys\",\"cat /home/*/.ssh/known_hosts\",\"cat /home/*/-.hist\"]\n",
    "\n",
    "credentials = [\"/home/*/.ssh/id*\",\"/tmp/krb5cc_*\",\"/tmp/krb5.keytab\",\"/home/*/.gnupg/secring.gpgs\"]\n",
    "\n",
    "configs = [\"ls -aRl /etc/ * awk '$1 ~ /w.$/' * grep -v lrwx 2>/dev/nullte\",\"cat /etc/issue{,.net}\",\"cat /etc/master.passwd\",\"cat /etc/group\",\"cat /etc/hosts\"]\n",
    "\n",
    "distro = [\"uname -a\",\"lsb_release -d\",\"/etc/os-release\",\"/etc/issue\",\"cat /etc/*release\"]\n",
    "\n",
    "package_source = [\"cat /etc/apt/sources.list\",\"ls -l /etc/yum.repos.d/\",\"cat /etc/yum.conf\"]\n",
    "\n",
    "important_files = [\"ls -dlR */\",\"ls -alR | grep ^d\",\"find /var -type d\",\"ls -dl `find /var -type d`\",\"ls -dl `find /var -type d` | grep -v root\"]\n",
    "\n",
    "del_destroy = [\"rm -rf /\",\"mkfs.ext3 /dev/sda\",\"dd if=/dev/zero of=/dev/sda bs=1M\"]\n",
    "\n",
    "open_path = [\"ls -alh /root/\",\"sudo -l\",\"cat /etc/sudoers\",\"cat /etc/shadow\",\"cat /etc/master.passwd # OpenBSD\"]"
   ]
  },
  {
   "cell_type": "markdown",
   "metadata": {},
   "source": [
    "Making sure the linux SSH works\n"
   ]
  },
  {
   "cell_type": "code",
   "execution_count": 12,
   "metadata": {},
   "outputs": [],
   "source": [
    "import paramiko\n",
    "from getpass import getpass\n",
    "\n",
    "#create pass prompt\n",
    "thepass = getpass(prompt=\"Please enter SSH Password\")\n",
    "\n",
    "#host information\n",
    "host = \"100.64.15.161\"\n",
    "port = 22\n",
    "#username = root \n",
    "#password = root\n",
    "username = \"root\"\n",
    "password = thepass\n",
    "\n",
    "try:\n",
    "    \n",
    "    ssh = paramiko.SSHClient()\n",
    "    ssh.set_missing_host_key_policy(paramiko.AutoAddPolicy())\n",
    "    ssh.connect(host, port, username, password)\n",
    "    \n",
    "except paramiko.AuthenticationException:\n",
    "    print(\"auth failed\")"
   ]
  },
  {
   "cell_type": "markdown",
   "metadata": {},
   "source": [
    "Running the system commands and saving them to the file\n"
   ]
  },
  {
   "cell_type": "code",
   "execution_count": 13,
   "metadata": {},
   "outputs": [],
   "source": [
    "for eachCMD in system:\n",
    "    #get output from the command\n",
    "    stdin, stdout, stderr = ssh.exec_command(eachCMD)\n",
    "\n",
    "    #get results from the stdout\n",
    "    lines = stdout.readlines()\n",
    "\n",
    "    #convert the list to a string\n",
    "    output = ''.join(lines)\n",
    "    \n",
    "    #print(output)\n",
    "    \n",
    "    #header and footer output\n",
    "    sepheader = '' + '### BEGIN ' + eachCMD + ' ###\\n\\n'\n",
    "    sepfooter = '' + '### END ' + eachCMD + ' ###\\n\\n'\n",
    "\n",
    "    cmd_output = sepheader + output + sepfooter\n",
    "    #print(cmd_output)\n",
    "    \n",
    "    with open('command.txt', 'a') as f:     \n",
    "         f.write(cmd_output)"
   ]
  }
 ],
 "metadata": {
  "kernelspec": {
   "display_name": "Python 3.10.7 64-bit",
   "language": "python",
   "name": "python3"
  },
  "language_info": {
   "codemirror_mode": {
    "name": "ipython",
    "version": 3
   },
   "file_extension": ".py",
   "mimetype": "text/x-python",
   "name": "python",
   "nbconvert_exporter": "python",
   "pygments_lexer": "ipython3",
   "version": "3.10.7"
  },
  "orig_nbformat": 4,
  "vscode": {
   "interpreter": {
    "hash": "e98a32691829307ecf51a330221c2f4d88d6a48dbf9e49abb0647efe438d1cf2"
   }
  }
 },
 "nbformat": 4,
 "nbformat_minor": 2
}
