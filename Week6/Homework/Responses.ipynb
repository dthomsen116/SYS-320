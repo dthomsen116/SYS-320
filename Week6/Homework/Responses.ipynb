{
 "cells": [
  {
   "cell_type": "markdown",
   "metadata": {},
   "source": [
    "### Responses\n",
    "\n",
    "What Python module **contains** the function to see if a file exists?\n",
    "\n",
    "import os.path (more specifically **from os.path import exists**)\n",
    "\n",
    "___\n",
    "\n",
    "What is the function **within the module** that checks to see if the file exists?\n",
    "\n",
    "os.path.exists\n",
    "\n",
    "file_exists = exists(file_directory)\n",
    "\n",
    "Source = https://www.pythontutorial.net/python-basics/python-check-if-file-exists/#:~:text=Python%20Check%20If%20File%20Exists,-If%20this%20Python&text=To%20do%20it%2C%20you%20can,class%20in%20the%20pathlib%20module.\n",
    "\n",
    "___\n",
    "\n",
    "What Python module **contains** the function to remove a file?\n",
    "\n",
    "import os\n",
    "\n",
    "___\n",
    "\n",
    "What is the function **within the module** that removes the file?\n",
    "\n",
    "os.remove\n",
    "\n",
    "Source = https://flexiple.com/python/python-remove-file/\n",
    "\n",
    "___\n",
    "\n",
    "What standard Python function is used to take **input** from a user prompt?\n",
    "\n",
    "input()\n",
    "\n",
    "___"
   ]
  },
  {
   "cell_type": "markdown",
   "metadata": {},
   "source": [
    "### Reflection\n",
    "\n",
    "What did you like the most about this assignment?\n",
    "\n",
    "I like that while it was a different assignment from the classwork, it was similar enough to be able to pull bits and pieces from the classwork and not have to start with nothing.\n",
    "___\n",
    "What did you like the least about this assignment?\n",
    "\n",
    "This is mainly my fault for not doing it earlier, but my least favorite part was stopping in the middle of the lab to create a Linux SSH machine, as I was using windows for the previous lab. However, this is not a bad thing as it gave me a look at how to change the code to adjust do different operating systems. \n",
    "___\n",
    "What additional questions do you have?\n",
    "N/A"
   ]
  }
 ],
 "metadata": {
  "kernelspec": {
   "display_name": "Python 3.10.7 64-bit",
   "language": "python",
   "name": "python3"
  },
  "language_info": {
   "name": "python",
   "version": "3.10.7"
  },
  "orig_nbformat": 4,
  "vscode": {
   "interpreter": {
    "hash": "e98a32691829307ecf51a330221c2f4d88d6a48dbf9e49abb0647efe438d1cf2"
   }
  }
 },
 "nbformat": 4,
 "nbformat_minor": 2
}
