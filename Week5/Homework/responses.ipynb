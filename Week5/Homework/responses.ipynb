{
 "cells": [
  {
   "cell_type": "markdown",
   "metadata": {},
   "source": [
    "Pick out 1 line of output from your results for each of the three attacks outlined below and explain why it is suspicious?\n",
    "\n",
    "Powershell:\n",
    "        Full Argument: C:\\Windows\\System32\\WindowsPowerShell\\v1.0\\powershell.exe Get-Date\n",
    "\n",
    "        hostname: 0000TEBSC\n",
    "\n",
    "        name: powershell.exe\n",
    "\n",
    "        path: C:\\Windows\\System32\\powershell.exe\n",
    "\n",
    "        pid: 3728\n",
    "\n",
    "        username: zarwatso67\n",
    "\n",
    "\n",
    "Uses the powershell.exe snippit and tries to run a command as well. \n",
    "\n",
    "        Full Argument: \"C:\\Users\\avacarter\\AppData\\Local\\slack\\app-3.1.1\\slack.exe\" --type=renderer --disable-pinch --no-sandbox --primordial-pipe-token=B3F36050C50A99BD488162270E67D4DD --lang=en-GB --standard-schemes=slack-resources slack-sounds slack-webapp-dev --app-user-model-id=com.squirrel.slack.slack --app-path=\"C:\\Users\\avacarter\\AppData\\Local\\slack\\app-3.1.1\\resources\\app.asar\" --node-integration=true --webview-tag=false --no-sandbox --preload=\"C:\\Users\\avacarter\\AppData\\Local\\slack\\app-3.1.1\\resources\\app.asar\\src\\static\\index.js\" --device-scale-factor=1.5 --num-raster-threads=2 --enable-main-frame-before-activation --content-image-texture-target=0 0 3553;0 1 3553;0 2 3553;0 3 3553;0 4 3553;0 5 3553;0 6 3553;0 7 3553;0 8 3553;0 9 3553;0 10 3553;0 11 3553;0 12 3553;0 13 3553;0 14 3553;0 15 3553;0 16 3553;1 0 3553;1 1 3553;1 2 3553;1 3 3553;1 4 3553;1 5 3553;1 6 3553;1 7 3553;1 8 3553;1 9 3553;1 10 3553;1 11 3553;1 12 3553;1 13 3553;1 14 3553;1 15 3553;1 16 3553;2 0 3553;2 1 3553;2 2 3553;2 3 3553;2 4 3553;2 5 3553;2 6 3553;2 7 3553;2 8 3553;2 9 3553;2 10 3553;2 11 3553;2 12 3553;2 13 3553;2 14 3553;2 15 3553;2 16 3553;3 0 3553;3 1 3553;3 2 3553;3 3 3553;3 4 3553;3 5 3553;3 6 3553;3 7 3553;3 8 3553;3 9 3553;3 10 3553;3 11 3553;3 12 3553;3 13 3553;3 14 3553;3 15 3553;3 16 3553;4 0 3553;4 1 3553;4 2 3553;4 3 3553;4 4 3553;4 5 3553;4 6 3553;4 7 3553;4 8 3553;4 9 3553;4 10 3553;4 11 3553;4 12 3553;4 13 3553;4 14 3553;4 15 3553;4 16 3553 --service-request-channel-token=B3F36050C50A99BD488162270E67D4DD --renderer-client-id=8 --mojo-platform-channel-handle=2336 /prefetch:1\n",
    "\n",
    "        hostname: 0000DCDSL\n",
    "\n",
    "        name: slack.exe\n",
    "\n",
    "        path: C:\\Users\\avacarter\\AppData\\Local\\slack\\app-3.1.1\n",
    "\n",
    "        pid: 1518\n",
    "\n",
    "        username: avacarter\n",
    "\n",
    "Trying to write a script to get information from C:\\Users\\avacarter\\AppData\\Local\\slack\\app-3.1.1\\resources\\app.asar\\src\\static\\index.js\n",
    "\n",
    "\n",
    "\n",
    "I am currently unable to get the Credential Collection Piece working properly so I was unable to grab an output from it. \n",
    "\n",
    "\n",
    "\n",
    "\n",
    "\n",
    "\n",
    "What did you like the most and least about this assignment?\n",
    "\n",
    "To be honest, I really struggled with this assignment and I am not quite sure where to pinpoint the root of mny issue. I believe having no classwork to base it off of as well as the lack of a video, made this a really difficult lab for me. I still need to work on it and was unable to get it working, but would like to submit what I currently have.\n",
    "\n",
    "I think the concept of parsing through a log of text is an interesting aspect, but I am unable to wrap my head around the traversing directories and trying to parse multiple files at once. \n",
    "\n",
    "Liked Least: Lack of video as well as classwork to base it around\n",
    "Liked most: the idea of parsing multiple documents at once (not putting it into practice though as I was unable to solve how to do that)\n",
    "\n",
    "What additional questions do you have?\n",
    "I have completed the logs_check file to open and look through the document and store the results, as well as a parser to parse the documents, but I am unsure of how to combine them or make one big program to do it all. \n",
    "\n",
    "I had pieced these together by looking through github, the linked references, and using my old code so the work is a bit Frankenstein-y. I plan to keep working on this to get it to run properly and function, but was wondering if you would have advice on where to go with this code next."
   ]
  }
 ],
 "metadata": {
  "kernelspec": {
   "display_name": "Python 3.10.7 64-bit",
   "language": "python",
   "name": "python3"
  },
  "language_info": {
   "name": "python",
   "version": "3.10.6"
  },
  "orig_nbformat": 4,
  "vscode": {
   "interpreter": {
    "hash": "e98a32691829307ecf51a330221c2f4d88d6a48dbf9e49abb0647efe438d1cf2"
   }
  }
 },
 "nbformat": 4,
 "nbformat_minor": 2
}
