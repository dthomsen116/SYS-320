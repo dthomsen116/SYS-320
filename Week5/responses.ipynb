{
 "cells": [
  {
   "cell_type": "markdown",
   "metadata": {},
   "source": [
    "Pick out 1 line of output from your results for each of the three attacks outlined below and explain why it is suspicious?\n",
    "\n",
    "\n",
    "What did you like the most and least about this assignment?\n",
    "\n",
    "To be honest, I really struggled with this assignment and I am not quite sure where to pinpoint the root of mny issue. I believe having no classwork to base it off of as well as the lack of a video, made this a really difficult lab for me. I still need to work on it and was unable to get it working, but would like to submit what I currently have.\n",
    "\n",
    "I think the concept of parsing through a log of text is an interesting aspect, but I am unable to wrap my head around the traversing directories and trying to parse multiple files at once. \n",
    "\n",
    "Liked Least: Lack of video as well as classwork to base it around\n",
    "Liked most: the idea of parsing multiple documents at once (not putting it into practice though as I was unable to solve how to do that)\n",
    "\n",
    "What additional questions do you have?\n",
    "I have completed the logs_check file to open and look through the document and store the results, as well as a parser to parse the documents, but I am unsure of how to combine them or make one big program to do it all. \n",
    "\n",
    "I had pieced these together by looking through github, the linked references, and using my old code so the work is a bit Frankenstein-y. I plan to keep working on this to get it to run properly and function, but was wondering if you would have advice on where to go with this code next."
   ]
  }
 ],
 "metadata": {
  "kernelspec": {
   "display_name": "Python 3.10.7 64-bit",
   "language": "python",
   "name": "python3"
  },
  "language_info": {
   "name": "python",
   "version": "3.10.7"
  },
  "orig_nbformat": 4,
  "vscode": {
   "interpreter": {
    "hash": "e98a32691829307ecf51a330221c2f4d88d6a48dbf9e49abb0647efe438d1cf2"
   }
  }
 },
 "nbformat": 4,
 "nbformat_minor": 2
}
