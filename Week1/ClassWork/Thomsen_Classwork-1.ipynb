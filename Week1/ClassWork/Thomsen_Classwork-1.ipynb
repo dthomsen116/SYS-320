{
 "cells": [
  {
   "cell_type": "code",
   "execution_count": 29,
   "metadata": {},
   "outputs": [
    {
     "data": {
      "text/plain": [
       "<module 'syslogFTPConnection' from 'c:\\\\Users\\\\dthom\\\\Documents\\\\SYS-320\\\\Week1\\\\ClassWork\\\\syslogFTPConnection.py'>"
      ]
     },
     "execution_count": 29,
     "metadata": {},
     "output_type": "execute_result"
    }
   ],
   "source": [
    "import syslogSSH\n",
    "import syslogSU\n",
    "import syslogFTPConnection\n",
    "import importlib\n",
    "importlib.reload(syslogSSH)\n",
    "importlib.reload(syslogSU)\n",
    "importlib.reload(syslogFTPConnection)"
   ]
  },
  {
   "cell_type": "markdown",
   "metadata": {},
   "source": [
    "# Review system logs"
   ]
  },
  {
   "cell_type": "markdown",
   "metadata": {},
   "source": [
    "### SSH Authentication Failure Domains"
   ]
  },
  {
   "cell_type": "code",
   "execution_count": 30,
   "metadata": {},
   "outputs": [
    {
     "name": "stdout",
     "output_type": "stream",
     "text": [
      "rhost=218.188.2.4\n",
      "rhost=220-135-151-1.hinet-ip.hinet.net\n"
     ]
    }
   ],
   "source": [
    "syslogSSH.ssh_fail('../../logs/smallSyslog.log', ['sshd\\(pam_unix\\).*authentication failure.*'])"
   ]
  },
  {
   "cell_type": "markdown",
   "metadata": {},
   "source": [
    "### SU Open"
   ]
  },
  {
   "cell_type": "code",
   "execution_count": 31,
   "metadata": {},
   "outputs": [
    {
     "name": "stdout",
     "output_type": "stream",
     "text": [
      "cyrus\n",
      "news\n"
     ]
    }
   ],
   "source": [
    "syslogSU.su_open('../../logs/smallSyslog.log', ['su\\(pam_unix\\).*session opened for user.*'])"
   ]
  },
  {
   "cell_type": "markdown",
   "metadata": {},
   "source": [
    "### FTP Connections"
   ]
  },
  {
   "cell_type": "code",
   "execution_count": 33,
   "metadata": {},
   "outputs": [
    {
     "name": "stdout",
     "output_type": "stream",
     "text": [
      "210.223.97.117\n",
      "211.42.188.206\n",
      "82.252.162.81\n",
      "218.38.58.3\n",
      "216.12.111.241\n",
      "208.62.55.75\n",
      "61.74.96.178\n",
      "62.99.164.82\n",
      "211.107.232.1\n",
      "212.65.68.82\n",
      "220.94.205.45\n",
      "84.102.20.2\n",
      "218.146.61.230\n",
      "82.68.222.195\n",
      "81.171.220.226\n",
      "82.68.222.194\n",
      "211.72.151.162\n",
      "206.196.21.129\n",
      "221.4.102.93\n",
      "67.95.49.172\n",
      "202.82.200.188\n",
      "210.118.170.95\n",
      "203.101.45.59\n",
      "172.181.208.156\n",
      "63.197.98.106\n",
      "217.187.83.50\n",
      "82.83.227.67\n",
      "211.72.2.106\n",
      "210.245.165.136\n",
      "222.33.90.199\n",
      "217.187.83.139\n",
      "211.167.68.59\n",
      "207.30.238.8\n",
      "211.57.88.250\n",
      "24.54.76.216\n",
      "83.116.207.11\n",
      "206.47.209.10\n",
      "218.69.108.57\n"
     ]
    }
   ],
   "source": [
    "syslogFTPConnection.ftp_connect('../../logs/Linux_2k.log',['ftpd.*connection from.*'])"
   ]
  }
 ],
 "metadata": {
  "kernelspec": {
   "display_name": "Python 3.10.6 64-bit",
   "language": "python",
   "name": "python3"
  },
  "language_info": {
   "codemirror_mode": {
    "name": "ipython",
    "version": 3
   },
   "file_extension": ".py",
   "mimetype": "text/x-python",
   "name": "python",
   "nbconvert_exporter": "python",
   "pygments_lexer": "ipython3",
   "version": "3.10.6"
  },
  "orig_nbformat": 4,
  "vscode": {
   "interpreter": {
    "hash": "e98a32691829307ecf51a330221c2f4d88d6a48dbf9e49abb0647efe438d1cf2"
   }
  }
 },
 "nbformat": 4,
 "nbformat_minor": 2
}
