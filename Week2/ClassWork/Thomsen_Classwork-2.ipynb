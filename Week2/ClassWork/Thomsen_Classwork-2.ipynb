{
 "cells": [
  {
   "cell_type": "code",
   "execution_count": 48,
   "metadata": {},
   "outputs": [
    {
     "data": {
      "text/plain": [
       "<module 'apacheLog' from 'c:\\\\Users\\\\dthom\\\\Documents\\\\SYS-320\\\\Week2\\\\ClassWork\\\\apacheLog.py'>"
      ]
     },
     "execution_count": 48,
     "metadata": {},
     "output_type": "execute_result"
    }
   ],
   "source": [
    "import apacheLog\n",
    "\n",
    "import importlib\n",
    "importlib.reload(apacheLog)"
   ]
  },
  {
   "cell_type": "markdown",
   "metadata": {},
   "source": [
    "# Review system logs"
   ]
  },
  {
   "cell_type": "markdown",
   "metadata": {},
   "source": [
    "### Apache PHP"
   ]
  },
  {
   "cell_type": "code",
   "execution_count": 50,
   "metadata": {},
   "outputs": [
    {
     "name": "stdout",
     "output_type": "stream",
     "text": [
      "404 GET /wordpress/wp-login.php\n"
     ]
    }
   ],
   "source": [
    "apacheLog.apache_events('../../logs/access.log', 'apache' , 'php')"
   ]
  },
  {
   "cell_type": "code",
   "execution_count": 51,
   "metadata": {},
   "outputs": [
    {
     "name": "stdout",
     "output_type": "stream",
     "text": [
      "404 POST /cgi-bin/test-cgi\n",
      "404 GET /cgi-bin/test-cgi\n"
     ]
    }
   ],
   "source": [
    "apacheLog.apache_events('../../logs/access.log', 'apache' , 'cgi')"
   ]
  }
 ],
 "metadata": {
  "kernelspec": {
   "display_name": "Python 3.10.6 64-bit",
   "language": "python",
   "name": "python3"
  },
  "language_info": {
   "codemirror_mode": {
    "name": "ipython",
    "version": 3
   },
   "file_extension": ".py",
   "mimetype": "text/x-python",
   "name": "python",
   "nbconvert_exporter": "python",
   "pygments_lexer": "ipython3",
   "version": "3.10.7"
  },
  "orig_nbformat": 4,
  "vscode": {
   "interpreter": {
    "hash": "e98a32691829307ecf51a330221c2f4d88d6a48dbf9e49abb0647efe438d1cf2"
   }
  }
 },
 "nbformat": 4,
 "nbformat_minor": 2
}
