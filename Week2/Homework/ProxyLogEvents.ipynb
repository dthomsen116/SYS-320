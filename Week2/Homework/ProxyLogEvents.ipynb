{
 "cells": [
  {
   "cell_type": "code",
   "execution_count": 1,
   "metadata": {},
   "outputs": [
    {
     "data": {
      "text/plain": [
       "<module 'OpenProxLog' from 'c:\\\\Users\\\\dthom\\\\Documents\\\\SYS-320\\\\Week2\\\\Homework\\\\OpenProxLog.py'>"
      ]
     },
     "execution_count": 1,
     "metadata": {},
     "output_type": "execute_result"
    }
   ],
   "source": [
    "import Proxylog, OpenProxLog\n",
    "\n",
    "import importlib\n",
    "importlib.reload(Proxylog)\n",
    "importlib.reload(OpenProxLog)"
   ]
  },
  {
   "cell_type": "markdown",
   "metadata": {},
   "source": [
    "# Review system logs"
   ]
  },
  {
   "cell_type": "markdown",
   "metadata": {},
   "source": [
    "### ALL QQ"
   ]
  },
  {
   "cell_type": "code",
   "execution_count": 2,
   "metadata": {},
   "outputs": [
    {
     "name": "stdout",
     "output_type": "stream",
     "text": [
      "QQ.exe | tcpconn6.tencent.com:443 | 0  bytes  sent, | 0  bytes  received,\n",
      "QQ.exe | tcpconn3.tencent.com:80 | 0  bytes  sent, | 0  bytes  received,\n",
      "QQProtectUpd.exe | qdun-data.qq.com:443 | 261  bytes  sent, | 70  bytes  received,\n",
      "QQ.exe | cgi.qqweb.qq.com:80 | 477  bytes  sent, | 448  bytes  received,\n",
      "QQ.exe | tcpconn6.tencent.com:80 | 0  bytes  sent, | 0  bytes  received,\n",
      "QQ.exe | tcpconn.tencent.com:80 | 133  bytes  sent, | 0  bytes  received,\n",
      "QQ.exe | tcpconn3.tencent.com:443 | 149  bytes  sent, | 121  bytes  received,\n"
     ]
    }
   ],
   "source": [
    "Proxylog.proxy('../../logs/Proxifier_2k.log', 'apache' , 'all-exe')"
   ]
  },
  {
   "cell_type": "markdown",
   "metadata": {},
   "source": [
    "### ALL OPEN QQ\n"
   ]
  },
  {
   "cell_type": "code",
   "execution_count": 3,
   "metadata": {},
   "outputs": [
    {
     "name": "stdout",
     "output_type": "stream",
     "text": [
      "QQ.exe Opened through proxy proxy.cse.cuhk.edu.hk:5070\n",
      "QQProtectUpd.exe Opened through proxy proxy.cse.cuhk.edu.hk:5070\n",
      "QQPlayer.exe Opened through proxy proxy.cse.cuhk.edu.hk:5070\n"
     ]
    }
   ],
   "source": [
    "OpenProxLog.openproxy('../../logs/Proxifier_2k.log', 'apache' , 'open')"
   ]
  }
 ],
 "metadata": {
  "kernelspec": {
   "display_name": "Python 3.10.6 64-bit",
   "language": "python",
   "name": "python3"
  },
  "language_info": {
   "codemirror_mode": {
    "name": "ipython",
    "version": 3
   },
   "file_extension": ".py",
   "mimetype": "text/x-python",
   "name": "python",
   "nbconvert_exporter": "python",
   "pygments_lexer": "ipython3",
   "version": "3.10.7"
  },
  "orig_nbformat": 4,
  "vscode": {
   "interpreter": {
    "hash": "e98a32691829307ecf51a330221c2f4d88d6a48dbf9e49abb0647efe438d1cf2"
   }
  }
 },
 "nbformat": 4,
 "nbformat_minor": 2
}
